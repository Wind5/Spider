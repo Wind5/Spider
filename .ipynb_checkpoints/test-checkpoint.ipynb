{
 "cells": [
  {
   "cell_type": "code",
   "execution_count": 2,
   "metadata": {},
   "outputs": [],
   "source": [
    "from CxExtractor import CxExtractor\n",
    "import io\n",
    "def crawl_main_content(url, pathname, output_name, threshold=186):\n",
    "    cx = CxExtractor(threshold=threshold)\n",
    "    s = cx.crawl(url)\n",
    "    with io.open(pathname + output_name + '.txt', 'w') as f:                                              \n",
    "        f.write(s)                                             "
   ]
  },
  {
   "cell_type": "code",
   "execution_count": 12,
   "metadata": {
    "collapsed": true
   },
   "outputs": [],
   "source": [
    "# -*- coding: utf-8 -*-  \n",
    "#find title and href\n",
    "import sys  \n",
    "import re   \n",
    "import urllib2\n",
    "import requests\n",
    "from bs4 import BeautifulSoup  \n",
    "def get_baidu_result(key, pathname='', pagenum=1):\n",
    "    req = requests.get('http://www.baidu.com/s?', params={'wd': key, 'pn': str(10 * (pagenum - 1)), 'rsv_srlang': 'cn'})\n",
    "    print req.url\n",
    "#     req = requests.get('http://www.baidu.com/s?wd=wind%26five&pn=10')\n",
    "    html=req.content\n",
    "    #print html\n",
    "    soup=BeautifulSoup(html,\"lxml\")\n",
    "    linkpattern=re.compile('href=\\\"(.+?)\\\"')\n",
    "    div=soup.find('div',id='wrapper').find('div',id='wrapper_wrapper').find('div',id='container').find('div',id='content_left')\n",
    "    print type(div.find('h3'))\n",
    "    re_dict={}\n",
    "    for link in div.find_all('div', [re.compile('result c-container '), re.compile('result-op c-container')]):\n",
    "        a = link.find('h3').find('a')\n",
    "        print a.text\n",
    "        print a['href']\n",
    "#         crawl_main_content(a['href'], pathname, a.text)\n",
    "#     for i in range(11,15):\n",
    "#         a=div.find('div',id=str(i)).find('h3').find('a')\n",
    "#         re_link=linkpattern.findall(str(a))\n",
    "#         re_title=a.text\n",
    "#         re_dict[re_title]=re_link[0]\n",
    "#     for r in re_dict:\n",
    "#         print r\n",
    "#         print re_dict[r]\n",
    "#         print '....................\\n'\n",
    "#     return re_dict"
   ]
  },
  {
   "cell_type": "code",
   "execution_count": 11,
   "metadata": {},
   "outputs": [
    {
     "name": "stdout",
     "output_type": "stream",
     "text": [
      "input key word: deep learning\n",
      "input number of pages: 1\n",
      "http://www.baidu.com/s?wd=deep+learning&pn=0&rsv_srlang=cn\n",
      "<class 'bs4.element.Tag'>\n",
      "\n",
      "  百度深度学习研究院-Relentless for Ultimate Intelligence\n",
      "\n",
      "http://www.baidu.com/link?url=Z9PUFQ_BdcaxM2IUsljwbNwc3sjGMTQKWGqnOAhMQRu\n",
      "深度学习_百度百科\n",
      "http://www.baidu.com/link?url=vHof9PhC3EvOcDYa0QsmqV34hXFNYJGGwMEdI8aMskStdNKrMp4A1ndTeiNjpd2dVjxCZrMCxy5LRbn3Bk5iEHmLgUMi2PqQITOQhy7HTjU012kzJayDa92bIjdHub9J\n",
      "Deep Learning Tutorials — DeepLearning 0.1 documentation\n",
      "http://www.baidu.com/link?url=LesIzFKdUEGyJ_p8srKR51D7nyzJuINLchyZ5pfa0f3SqLRSLEq_VMEspgtaouoL\n",
      "Deep Learning | Coursera\n",
      "http://www.baidu.com/link?url=SVUIHefpC8NbgxCA9igPS43AD7RSzDfN1rG25bPeNWN64yelH6w-TrgGFA9-sj8HAFWXyJ25XoF6qvBjBkRtda\n",
      "机器学习——深度学习(Deep Learning) - Rachel Zhang的专栏 - ...\n",
      "http://www.baidu.com/link?url=PH5D5ABbFIhnkQQ6Ji40HVwo8YfGpitmJ1nGbSwCQ_OiolCBzK7EDG_JShSQATCNU-NJGIkAY6n9b-MNgr-G0NYCQs5wNz4vZXKXucRXGw3\n",
      "deep learning初学该怎么入门?是要先好好学习神经网络吗? - 知乎\n",
      "http://www.baidu.com/link?url=WJLht8jcKl5pjdRzhUp7c5Wj6os9kXTpsCfKljD6n4qK_GavwMWSpVBjHe_zpb-HIjfcJA9-8yMLNNsdIVGz4_\n",
      "Deep Learning\n",
      "http://www.baidu.com/link?url=nlvSCBoCMaP3JDnvcQ_V-Pu-QCZifryJPD8KEJUpK0E_aArG78U7bMV-FgpI_8Ve\n",
      "Deep learning - Wikipedia\n",
      "http://www.baidu.com/link?url=cs9WHH2MI2kep58mLhIKOpyneZrWtRarA5B_mVOvtibZUB05NXI-Y7z6MXUUYRdax2tns3Z2e0iuJQHOD2xrPa\n",
      "Deep Learning(深度学习)学习笔记整理系列之(三) - zouxy09的专栏...\n",
      "http://www.baidu.com/link?url=P3o7LIhEBJHa6cQPUsBxO3n8bfoAF3SMbro8VdKPgL204LckLDQmmpLkl4wSjv4-Qc4Q6knNUoZHKfi7jf6mwa\n"
     ]
    }
   ],
   "source": [
    "key = raw_input('input key word: ')\n",
    "num_page = int(raw_input('input number of pages: '))\n",
    "for i in range(1, 1 + num_page):\n",
    "    get_baidu_result(key, './en_results/', i)"
   ]
  },
  {
   "cell_type": "code",
   "execution_count": 3,
   "metadata": {
    "scrolled": false
   },
   "outputs": [
    {
     "name": "stdout",
     "output_type": "stream",
     "text": [
      "ISO-8859-1\n",
      "Succeed to get the url\n",
      "num_a: 167\n",
      "language: False  enratio: 0.792292870906\n",
      "32\n"
     ]
    }
   ],
   "source": [
    "crawl_main_content('https://baike.baidu.com/item/%E8%85%BE%E8%AE%AF%E5%85%AC%E7%9B%8A%E6%85%88%E5%96%84%E5%9F%BA%E9%87%91%E4%BC%9A', '', 'test')"
   ]
  },
  {
   "cell_type": "code",
   "execution_count": 103,
   "metadata": {},
   "outputs": [
    {
     "name": "stdout",
     "output_type": "stream",
     "text": [
      "http://www.baidu.com/s?wd=wind%26five&pn=10\n"
     ]
    }
   ],
   "source": [
    "r = requests.get('http://www.baidu.com/s?', params={'wd': 'wind&five', 'pn': '10'})\n",
    "print r.url"
   ]
  },
  {
   "cell_type": "code",
   "execution_count": 153,
   "metadata": {
    "collapsed": true
   },
   "outputs": [],
   "source": [
    "with open('./en_results/d.txt', 'w') as f:\n",
    "    f.write('lalala')"
   ]
  },
  {
   "cell_type": "code",
   "execution_count": 13,
   "metadata": {
    "collapsed": true
   },
   "outputs": [],
   "source": [
    "url = 'https://baike.baidu.com/item/%E8%85%BE%E8%AE%AF%E5%85%AC%E7%9B%8A%E6%85%88%E5%96%84%E5%9F%BA%E9%87%91%E4%BC%9A'\n",
    "soup = BeautifulSoup(requests.get(url).content, 'html.parser')\n",
    "div = soup.find_all('div', class_=re.compile('content'), recursive=False)"
   ]
  },
  {
   "cell_type": "code",
   "execution_count": 17,
   "metadata": {
    "scrolled": false
   },
   "outputs": [
    {
     "data": {
      "text/plain": [
       "<listiterator at 0x7fdb74e87cd0>"
      ]
     },
     "execution_count": 17,
     "metadata": {},
     "output_type": "execute_result"
    }
   ],
   "source": [
    "soup.children"
   ]
  },
  {
   "cell_type": "code",
   "execution_count": 1,
   "metadata": {
    "scrolled": true
   },
   "outputs": [
    {
     "name": "stdout",
     "output_type": "stream",
     "text": [
      "ISO-8859-1\n",
      "Succeed to get the url\n",
      "num_a: 29\n",
      "http://www.baidu.com/\n",
      "https://www.baidu.com/\n",
      "http://news.baidu.com/\n",
      "https://tieba.baidu.com/\n",
      "https://zhidao.baidu.com/\n",
      "http://music.baidu.com/\n",
      "http://image.baidu.com/\n",
      "http://v.baidu.com/\n",
      "http://map.baidu.com/\n",
      "https://wenku.baidu.com/\n",
      "https://baike.baidu.com/tashuo/browse/content?id=2e7f4fcdd0bc69101416efec&fr=qingtian&lemmaId=22100792\n",
      "https://baike.baidu.com/tashuo/browse/content?id=2e7f4fcdd0bc69101416efec&fr=qingtian&lemmaId=22100792\n",
      "https://baike.baidu.com/tashuo/browse/content?id=2e7f4fcdd0bc69101416efec&fr=qingtian&lemmaId=22100792\n",
      "http://news.xinhuanet.com/fortune/2017-08/30/c_1121566323.htm\n",
      "http://news.xinhuanet.com/fortune/2017-08/30/c_1121566323.htm\n",
      "http://news.xinhuanet.com/fortune/2017-08/30/c_1121566323.htm\n",
      "http://www.foundationcenter.org.cn/\n",
      "http://www.foundationcenter.org.cn/\n",
      " http://baike.bdimg.com/cms/static/cooperation/content.pdf\n",
      "http://www.baidu.com/p/yanggang_\n",
      "https://aikefu.baidu.com/?product=bk001\n",
      "http://tieba.baidu.com/f?ie=utf-8&fr=bks0000&kw=%E7%99%BE%E5%BA%A6%E7%99%BE%E7%A7%91\n",
      "http://tousu.baidu.com/baike#1\n",
      "http://tousu.baidu.com/baike#2\n",
      "http://tousu.baidu.com/baike#4\n",
      "http://tousu.baidu.com/baike#3\n",
      "http://www.baidu.com/duty/\n",
      "http://help.baidu.com/question?prod_en=baike&class=159&id=1047\n",
      "http://www.beian.gov.cn/portal/registerSystemInfo?recordcode=11000002000001\n",
      "language: False  enratio: 0.792292870906\n",
      "32\n",
      "腾讯公益慈善基金会（简称腾讯基金会）是2007年6月26日经中华人民共和国国务院与民政部批准成立，在民政部登记注册、由民政部主管的全国性非公募基金会。[1] \n",
      "2007年6月，腾讯公司倡导并发起了中国互联网第一家在民政部注册的全国性非公募基金会——腾讯基金会。作为首家由互联网企业发起成立的公益基金会，腾讯基金会致力于推动互联网与公益慈善事业的深度融合与发展，通过互联网尤其是移动互联网的技术和服务推动公益行业的发展。[2] \n",
      "腾讯公益慈善基金会的原始基金为2000万元，由腾讯公司捐赠。[3] \n",
      "腾讯承诺每年都会将利润的一定比例捐赠给基金会。 [4] \n",
      "8月29日早上，朋友圈被腾讯公益的一个“小朋友画廊”一元购画的活动刷屏了，朋友圈中无插队的接力下，超过1500万捐款，超过581万人次参与，这种“社交+公益”的力量，厉害了！...详情\n",
      "8月29日，微信朋友圈被一幅幅“小朋友”画作刷屏。新京报记者了解到，此次“一元购画”募捐活动是腾讯公益平台发起的，画作是由WABC无障碍艺途公益机构患有自闭症、智力障碍、脑瘫等病症的特殊人群创作，微信用户可以以一元钱的价格购买画作，保存成壁纸使用。据记者统计，此次捐款完成目标为1500万元，已于昨日下午完成。活动参与人数超过580万人。...详情\n",
      "腾讯公益致力于成为“人人可公益”的创联者，成为公益组织和广大爱心网友，企业之间的“连接器”，用互联网核心能力推动公益行业的长远发展。[8] \n",
      "A 人人公益——网络捐款平台\n",
      "作为腾讯基金会的重要产品，“网络捐款平台”融入互联网的智慧和精神，将公益成功转变为一种新的社交方式。通过“乐捐”“一起捐”等方式，数量庞大却零散分布的爱心个人，用最简便的方式参与公益，并迅速汇聚形成了一个网络可见的正能量群体。[9] \n",
      "一起捐——是腾讯公益推出的“一起捐”就是这样一种基于移动平台特性和社交关系链的全新募款模式，“一起捐”带来的不只是捐款，更是将朋友和互动引入公益。让爱心在朋友和一个个圈子里流通，使得公益更加真实、友好和快乐。[10] \n",
      "截至2015年12月，有超过4825万人次的爱心用户，通过腾讯公益捐赠善款超过7.6亿元，共资助了2562家公益组织的8235个公益项目。[11] \n",
      "B 行为公益——益行家\n",
      "腾讯“益行家”是由腾讯公益慈善基金会发起并主办，号召公众通过线上公益捐赠，参与线下徒步行走的大型年度品牌公益项目。[12-13] \n",
      "“益行家”是一款将用户的运动数据转化为公益步数，兑换为资助企业的公益基金捐助公益项目的产品。以“人人是公益行动家”为使命，通过移动互联网社交，撬动企业及公众共同参与全民健康公益的盛宴。\n",
      "A 全民公益——99公益日\n",
      "“99公益日”是由腾讯公益联合数百家公益组织、知名企业、明星名人、顶级创意传播机构共同发起的一年一度全民公益活动。[14] \n",
      "2015年9月9日是中国首个互联网公益日，2015年公益日主题为“一起爱”。[15] \n",
      "通过腾讯公益平台，共有205万人次参与捐款1.279亿元，发起一起捐的人次高达861671人，见证了移动互联+公益形成的“指尖上的公益”所迸发出来的强大力量。\n",
      "B 机构赋能——微爱计划\n",
      "腾讯微爱是腾讯公益慈善基金会面向公益组织发展的立体成长体系。其核心机制是：腾讯基金会通过微爱开放平台，整体提供资金、资源、资讯的全方位支持，促进民间公益组织、优秀企业、公益领袖、爱心网友、社会志愿者的正向互动，共同致力于推动中国公益事业的良性发展。[16] \n",
      "C 创新公益——1001创想行动\n",
      "1001创想行动是腾讯公益发起的，通过创新的筹人配捐方式，支持有想法、接地气和靠谱的公益创新型项目在乐捐平台上进行众筹，激励更多的青年人用自己的创意去解决社会问题，让公益更加有爱有趣有想象力。[17] \n",
      "在企业内部，腾讯基金会积极探索联动产品做公益的可能性。利用腾讯产品的技术与特性，连接腾讯的用户，让公益参与更高效、影响更广泛。\n",
      "合作案例：微信的“为盲胞读书”、QQ邮箱的“暖灯行动”、手机QQ的“全城助力”、“QQ红围巾”、电脑管家及手机管家的“清理+”、天天酷跑及微信运动的“酷跑+”等。\n",
      "作为由中国最大互联网企业发起的基金会，腾讯基金会积极探索结合企业的核心优势建设公益事业，回馈社会。\n",
      "为村是一个用个移动互联网发现乡村价值的开放平台，它以“互联网+乡村”的模式，利用移动网络力量，为乡村连接情感、连接信息、连接财富。\n",
      "从2008年南方雪灾开始，腾讯基金会逐步建立了一套整合腾讯全平台资源的立体救灾机制，从灾情评估、灾难一线救援、救灾团队后勤保障三方面展开行动。\n",
      "每逢国内外发生重大灾难，腾讯基金会第一时间启动立体救灾应急模式，借助腾讯媒体影响力和号召力，用产品、技术等一切核心能力，通过社交网络、网络捐款平台、门户网站、搜索等产品，全平台全方位展开关注灾情、网络搜救、网络倡议、在线捐助等系列救灾行动，率先开创了线下线上结合的“立体救灾模式”。\n",
      "2014年-2015年，先后展开了四川芦山灾后重建、云南鲁甸地震紧急救灾、海南威马逊风灾灾后重建、尼泊尔地震紧急救灾等灾难救助项目。\n",
      "99公益日再度启动 腾讯安全“清理+” 践行社会责任[18-19] \n",
      "在去年创下国内互联网1.279亿元的最高募捐纪录之后，99公益日这个旨在打造“人人可公益”的新兴慈善平台于近日再度启动。其中作为发起者的腾讯公益宣布在去年的配捐金额基础上追加1亿，总额达到1亿9999万,成为此次99公益日到来之前的一大焦点。捐额的全面“加码”，不仅意味着正在撬动更多力量的进入，也让大众的目光聚焦在了腾讯公益天文数字般捐额背后的行动。[18-19] \n",
      "事实上，腾讯公益除了豪掷千金之外，基于腾讯内部的平台优势已经实施了一系列全面且高效的生态公益创新举措。其中，去年刚刚上线的腾讯安全“清理”功能成绩喜人。用户通过使用腾讯电脑管家、腾讯手机管家的垃圾清理功能，实现爱心扫帚捐赠，最终用于相应的慈善活动。截止到2016年7月，三期“清理+”行动已开展清理三江源、防治阿拉善地区荒漠化以及关爱病患孤儿的主题活动，共获得4000万人次捐赠爱心扫帚。[18-19] \n",
      "\n"
     ]
    }
   ],
   "source": [
    "from CxExtractor import CxExtractor\n",
    "cx = CxExtractor(threshold=186)\n",
    "print cx.crawl('https://baike.baidu.com/item/%E8%85%BE%E8%AE%AF%E5%85%AC%E7%9B%8A%E6%85%88%E5%96%84%E5%9F%BA%E9%87%91%E4%BC%9A')"
   ]
  },
  {
   "cell_type": "code",
   "execution_count": 12,
   "metadata": {},
   "outputs": [
    {
     "data": {
      "text/plain": [
       "<generator object gen at 0x7fe229b559b0>"
      ]
     },
     "execution_count": 12,
     "metadata": {},
     "output_type": "execute_result"
    }
   ],
   "source": [
    "def gen():\n",
    "    yield 3\n",
    "    yield 5\n",
    "s = gen()\n",
    "s"
   ]
  },
  {
   "cell_type": "code",
   "execution_count": 21,
   "metadata": {},
   "outputs": [
    {
     "ename": "IndexError",
     "evalue": "pop from empty list",
     "output_type": "error",
     "traceback": [
      "\u001b[0;31m---------------------------------------------------------------------------\u001b[0m",
      "\u001b[0;31mIndexError\u001b[0m                                Traceback (most recent call last)",
      "\u001b[0;32m<ipython-input-21-353a8f813834>\u001b[0m in \u001b[0;36m<module>\u001b[0;34m()\u001b[0m\n\u001b[0;32m----> 1\u001b[0;31m \u001b[0ma\u001b[0m\u001b[0;34m.\u001b[0m\u001b[0mpop\u001b[0m\u001b[0;34m(\u001b[0m\u001b[0;34m)\u001b[0m\u001b[0;34m\u001b[0m\u001b[0m\n\u001b[0m",
      "\u001b[0;31mIndexError\u001b[0m: pop from empty list"
     ]
    }
   ],
   "source": []
  }
 ],
 "metadata": {
  "kernelspec": {
   "display_name": "Python 2",
   "language": "python",
   "name": "python2"
  },
  "language_info": {
   "codemirror_mode": {
    "name": "ipython",
    "version": 2
   },
   "file_extension": ".py",
   "mimetype": "text/x-python",
   "name": "python",
   "nbconvert_exporter": "python",
   "pygments_lexer": "ipython2",
   "version": "2.7.13"
  }
 },
 "nbformat": 4,
 "nbformat_minor": 2
}
