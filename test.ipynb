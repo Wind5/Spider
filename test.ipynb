{
 "cells": [
  {
   "cell_type": "code",
   "execution_count": 2,
   "metadata": {
    "collapsed": true
   },
   "outputs": [],
   "source": [
    "from CxExtractor import CxExtractor\n",
    "import util, io\n",
    "def crawl_main_content(url, pathname, output_name, threshold=186):\n",
    "    cx = CxExtractor(threshold=threshold)\n",
    "    s = cx.crawl(url)\n",
    "    with io.open(pathname + output_name + '.txt', 'w') as f:                                              \n",
    "        f.write(s)                                             "
   ]
  },
  {
   "cell_type": "code",
   "execution_count": 5,
   "metadata": {
    "collapsed": true
   },
   "outputs": [],
   "source": [
    "# -*- coding: utf-8 -*-  \n",
    "#find title and href\n",
    "import sys  \n",
    "import re   \n",
    "import urllib2\n",
    "import requests\n",
    "from bs4 import BeautifulSoup  \n",
    "def get_baidu_result(key, pathname='', pagenum=1):\n",
    "    req = requests.get('http://www.baidu.com/s?', params={'wd': key, 'pn': str(10 * (pagenum - 1)), 'rsv_srlang': 'en'})\n",
    "    print req.url\n",
    "#     req = requests.get('http://www.baidu.com/s?wd=wind%26five&pn=10')\n",
    "    html=req.content\n",
    "    #print html\n",
    "    soup=BeautifulSoup(html,\"lxml\")\n",
    "    linkpattern=re.compile('href=\\\"(.+?)\\\"')\n",
    "    div=soup.find('div',id='wrapper').find('div',id='wrapper_wrapper').find('div',id='container').find('div',id='content_left')\n",
    "    print type(div.find('h3'))\n",
    "    re_dict={}\n",
    "    for link in div.find_all('div', 'result c-container '):\n",
    "        a = link.find('h3').find('a')\n",
    "        print a.text\n",
    "        print a['href']\n",
    "        crawl_main_content(a['href'], pathname, a.text)\n",
    "#     for i in range(11,15):\n",
    "#         a=div.find('div',id=str(i)).find('h3').find('a')\n",
    "#         re_link=linkpattern.findall(str(a))\n",
    "#         re_title=a.text\n",
    "#         re_dict[re_title]=re_link[0]\n",
    "#     for r in re_dict:\n",
    "#         print r\n",
    "#         print re_dict[r]\n",
    "#         print '....................\\n'\n",
    "#     return re_dict"
   ]
  },
  {
   "cell_type": "code",
   "execution_count": 159,
   "metadata": {
    "collapsed": true
   },
   "outputs": [
    {
     "name": "stdout",
     "output_type": "stream",
     "text": [
      "input key word: deep learning\n",
      "input number of pages: 10\n",
      "http://www.baidu.com/s?wd=deep+learning&pn=0&rsv_srlang=en\n",
      "<class 'bs4.element.Tag'>\n",
      "Deep Learning Tutorials — DeepLearning 0.1 documentation\n",
      "http://www.baidu.com/link?url=bANsclvB4ihbze95K4Qet2czOKRXhC89NSow5s_IgtjeS_2avkUKAcOycicUurRK\n",
      "UTF-8\n",
      "Deep Learning\n",
      "http://www.baidu.com/link?url=Y7DDX8q5aZvC0HzRc9sWLja0YjcZ2OKxvSrocIAGfRkRItbzgpVPeBRlxhkMEWps\n",
      "utf-8\n",
      "Deep learning - Wikipedia\n",
      "http://www.baidu.com/link?url=f8tJcT8wpubZREBzSu-Ogn57EeUSa6-mAJIrrPH1JlMIt7udG8FixPKTP-GTCOREOh0sTgOFXnkF9m2yrZRm5_\n",
      "UTF-8\n",
      "Neural networks and deep learning\n",
      "http://www.baidu.com/link?url=E7EsKRgkW_m7vFbf-ZrwNh4q5dyGkTLMUMdeJGDiUdGO_7-tTOgDSOe20_Cn2qmsrDSulGQntDFlOcP_D6ElX_\n",
      "utf-8\n",
      "Deep Learning\n",
      "http://www.baidu.com/link?url=2fMUDOcc0wcX4Dcq4DJmnHtgxMuy9YsM9_a20m2t724xaI6LKjojVAkrrEOC6jUZ\n",
      "UTF-8\n",
      "Deeplearning4j: Open-source, Distributed Deep Learning for ...\n",
      "http://www.baidu.com/link?url=2BbXvK2UGkuWAiUu0Gu2h-r4yOP_AeboCUPxsubNJEQykhWntYhmhdQSyoIE_2cu\n",
      "utf-8\n",
      "Tutorials « Deep Learning\n",
      "http://www.baidu.com/link?url=Za3waoavisQNIoeED1UuDQ-e24hW9lZ89Mbitz6Qd3MYz89UfpN9z_w5G5PzpcqshOsxsTuLCpO7VdglocCyzK\n",
      "UTF-8\n",
      "Deep Learning\n",
      "http://www.baidu.com/link?url=iQvZxESn-FQuPcsT365wwQ4AWkvwC2sGN8ZchauiREtLprd8cm6XNyZPDZqv1mtI\n",
      "UTF-8\n",
      "<4> standord deep learning tutorial\n",
      "http://www.baidu.com/link?url=nr_RGdqmq3BF6XQqaXsZwPHxc_wKfQ0oRay28tVguTUwHBdzVmI4gCIPhczwOQ9rdzreV2nv-C-jr-kZWlXRc5dAGWT0RuTVwABJ0JrdQaG\n",
      "UTF-8\n",
      "Stanford University CS231n: Convolutional Neural Networks for...\n",
      "http://www.baidu.com/link?url=GiFNfef9frw2dp3VwVi5bHzEFnqE3DZ15sk6W2WTEtcNyjedo3l27ycP7fST9PVB\n",
      "UTF-8\n",
      "http://www.baidu.com/s?wd=deep+learning&pn=10&rsv_srlang=en\n",
      "<class 'bs4.element.Tag'>\n",
      "Deep Learning Tutorials — DeepLearning 0.1 documentation\n",
      "http://www.baidu.com/link?url=0JxLaGVs9KqYYwa4SrQR6yZgDn0IuNdbH76Uo2QQpE5QHVkOwp_SRrgkjSD2oXeT\n",
      "UTF-8\n",
      "LSTM Networks for Sentiment Analysis — DeepLearning 0.1 ...\n",
      "http://www.baidu.com/link?url=n7Z4UXH5iIeiJytVrrBmTnI9RmwcgG-EABSEloXai1IWOACVceJpW5md1ysiuEiVDPj0TUELm-TnZOx9RiU6g_\n",
      "UTF-8\n",
      "Deep Learning Software | NVIDIA Developer\n",
      "http://www.baidu.com/link?url=28PdoER2vvK79O5Rsd4no-ZTmnTzBPAMzFhbWWYVzZ9t3oszClk80Q9w9QjEmmSttCj-2DL4i7tVSZbmH1lzZq\n",
      "utf-8\n",
      "Getting Started — DeepLearning 0.1 documentation\n",
      "http://www.baidu.com/link?url=5xz9w-4oXhFFOTYP6Epa25FbOU1vb9SzvKIhpSKzujWa8wK_kOlNV41ns-fgfLxuP87gq9EGB2MyGUNpLWeBdK\n",
      "UTF-8\n",
      "Software links « Deep Learning\n",
      "http://www.baidu.com/link?url=kLlxhWH3LmbRGfafPCB2iDrSn8acMgAW0m4JQz9Gv_tr0orXyWGkBdTCx5HkSrSP\n",
      "UTF-8\n",
      "Neural networks and deep learning\n",
      "http://www.baidu.com/link?url=xprJ3BClvED9uhGTcZt3DQWVEzTpunUAtqGSDSXbmrC62fM5g__rZOTUCozEp46ETSH3ElcarJmPsEq_FvcasK\n",
      "utf-8\n",
      "Deep Learning and AI Education, Classes and Workshops | NVIDIA\n",
      "http://www.baidu.com/link?url=pMaSUkTt8ct8EW3TkrasE82JWykERIpcsOLRia3VnhFKl6rqCmYcxIhE142UzIda9OG03P2aCQEYwyJTl3Ulpa\n",
      "UTF-8\n",
      "Deep Learning Frameworks | NVIDIA Developer\n",
      "http://www.baidu.com/link?url=sfb_oB0GErJk6UTIWTGKGbDVeuFzFgRBbkjtPrfyAaVnAjf-X1UdbxLBnSCdkdaScq0nuQhsEEQ0erM9-o7HG_\n",
      "utf-8\n",
      "Unsupervised Feature Learning and Deep Learning Tutorial\n",
      "http://www.baidu.com/link?url=XwG7tobQzsD60dUBaBYRg63CnW0qkC-nOrWWuY4gHIPRkGfy7O-06RlDDd4xDW5Y\n",
      "UTF-8\n",
      "http://www.baidu.com/s?wd=deep+learning&pn=20&rsv_srlang=en\n",
      "<class 'bs4.element.Tag'>\n",
      "Deep Learning for NLP - NAACL 2013 Tutorial\n",
      "http://www.baidu.com/link?url=1hE5aqebOIBhABfXed6iMx5y0R4S2vO1Vu87JjLc4TbyQmYzUJfuft5W-6Dv-YmpakcKhrihIuytFT3NJbtkSq\n",
      "UTF-8\n",
      "Spark + Deep Learning: Distributed Deep Neural Network ...\n",
      "http://www.baidu.com/link?url=rNAJ5YAGFyT-tVWh6uCadDLXvqgrrfc2_zXQ5hjNFctvx2AUTLSFR_Y494_gSvKZZwJQOSIsFct-2uuJhPmFnHIpkqHxnXBsbqQCTtEciP-XKsiPAfy_ZYx5epgj5Z26\n",
      "UTF-8\n",
      "[1409.2944] Collaborative Deep Learning for Recommender Systems\n",
      "http://www.baidu.com/link?url=YmNBQorS-oeWMUae5djpsVbCIyglNpr5CqHMjIUKj8D-zF8wnZxbje59HJCQZXKF\n",
      "utf-8\n",
      "Caffe | Deep Learning Framework\n",
      "http://www.baidu.com/link?url=yri0ot1EC4_RtX77lDmr3wCQ20xUiecbWhFD4MNU8nx_r7e_8OC5hFWmiKPEyGdg\n",
      "utf-8\n",
      "CS 294 Deep Reinforcement Learning, Fall 2017\n",
      "http://www.baidu.com/link?url=_3x8jrkAl7nOZgaTe7uVSH79aUJzUY8I4WMEVQ7p1dyVjPoOQO6Ko2Wze8R8fGZ_\n",
      "ISO-8859-1\n",
      "Skymind - Deep learning for Enterprise on Hadoop and Spark\n",
      "http://www.baidu.com/link?url=sZbfZFt47oVVwRQQgTPBuLbRWoFuKW_XGwFGdlap2AG\n",
      "utf-8\n",
      "2013年deeplearning 的最新进展和相关论文\n",
      "http://www.baidu.com/link?url=6HiWGlSckorkmYQYJuXtMMg4KPkfcBRKO4UtQDrFSje6S1XOy2J4rU58JbqyWl-JRPvvNpWW5dmoCMukzZcLSK\n",
      "ISO-8859-1\n",
      "Deeper Learning\n",
      "http://www.baidu.com/link?url=NnVU41jAKy_8LB1-bf63vHRpO6E0OOgwp-ndZWb15ABJcQcv6GyS_ml1HC2HOoXWvu_bnVuLRg8r5wITLc7pUE0pqA5PKlecViAP9GFkQzu\n",
      "UTF-8\n",
      "Stanford University CS224d: Deep Learning for Natural ...\n",
      "http://www.baidu.com/link?url=i_6DdeIzHpEyK0t63Vd7gBb3u8rsGoFk5iaUvXj01XqafZgEJhn4MdYVkuQFkT7Q\n",
      "ISO-8859-1\n",
      "Deep Learning in a Nutshell: Core Concepts\n",
      "http://www.baidu.com/link?url=Aq1CVeGcwOqTLrqejCi520ezbvL0v84hDlLXhe7MX3vIjvf_3VtjsQivtskhC8Pkq2cM5s3NvvZWwTgy2f8oackn22OYS5hAWEzb4uIdw-A91qi2TeezT70pnFhqebT0\n",
      "UTF-8\n",
      "http://www.baidu.com/s?wd=deep+learning&pn=30&rsv_srlang=en\n",
      "<class 'bs4.element.Tag'>\n",
      "Machine Learning\n",
      "http://www.baidu.com/link?url=wv1OthzVRo1m_D6LFANuZDT57jSnYQkXUWo-z2T2ZDNB2-amtzWLGqdF_xlE-40uJGQBT5DL2ib44SM98ySRp8LEfnel-eSqWA-1p9-3GoO\n",
      "UTF-8\n",
      "深度学习材料:从感知机到深度网络A Deep Learning Tutorial: From...\n",
      "http://www.baidu.com/link?url=VFXb7UKJJwP29v9GhxRcGbxD0kGz6xyiGPAoEDZrBw7RlMSp7r8VC2qmrz3LY7F-00y4koIPifR_UA4CQ5FfVq\n",
      "utf-8\n",
      "Deep Learning Deployment on Myriad™ 2 | Machine Vision ...\n",
      "http://www.baidu.com/link?url=7J1psfwAmzh3FBrxce1n5qzFLxQtf_2SFkq17-lpOI4GYWAIihwDhAPG9M7ZXbXUXsvy4RtdpTGKB_nj9vZbHEe03RCgTGNvNP6EhQipBgoIuaLs2HW69UrLdG9MFECN\n",
      "UTF-8\n",
      "Why GEMM is at the heart of deep learning « Pete Warden's ...\n",
      "http://www.baidu.com/link?url=PB1wuYSXz1W7tt2rNt70EsGg72IdGIYbtvmJbVF74vRD3rOaCQ42oPoowg9fLSRjQWJEcF6K7nFGJf5ukeeWfi7KIjj_0fr-Y6-uqEISbmlXv2DRcnGvLRTzvjh0mrGa\n",
      "UTF-8\n",
      "Homepage – New Pedagogies for Deep Learning\n",
      "http://www.baidu.com/link?url=wAs_Y8oeZgAu_t3CQc4ODDJvY4ZB3sKYSRojicq6rGS\n",
      "UTF-8\n",
      "Home Page - Deeper Learning\n",
      "http://www.baidu.com/link?url=5a3D69AyHaHZpO6S9TrkfRIcrsJYLONQ7JIWdFtgzCMLlWJBSIVw3rZGuiUXydP9\n",
      "utf-8\n",
      "Microsoft Challenges Google's Artificial Brain With 'Project ...\n",
      "http://www.baidu.com/link?url=r-Hk9MbhlBR27s2fSJY-OCnklaCh7FMEb0E_r1r3btbJONLei4Bv2ExpYbd0HdKYUEsgqgDqX20nZsklcQwal_\n",
      "utf-8\n",
      "http://www.baidu.com/s?wd=deep+learning&pn=40&rsv_srlang=en\n",
      "<class 'bs4.element.Tag'>\n",
      "Applied Deep Learning in Python Mini-Course - Machine ...\n",
      "http://www.baidu.com/link?url=TUAE_xu9Ck9_PwH4QwxH_2HcKSa3lAguLSNkERNFRpqnNcsuYY2TAx9K7HNGqsl3PQjFud5wdf2tvMAhKlPONkppnk_DNC_2Dlbp3nPzfdWff-BJnyFkPMR2-iF6CAd_\n",
      "ISO-8859-1\n",
      "Facebook's 'Deep Learning' Guru Reveals the Future of AI | ...\n",
      "http://www.baidu.com/link?url=kq_lI04TLT4htCxWEUDI_x4_GZkxFohG0XeF8KniHlH-DCn-00vX2LQr24rdJw1Bfja7HHgNLHN5_g32CJM7O_\n",
      "utf-8\n",
      "Berkeley DeepDrive | We seek to merge deep learning with ...\n",
      "http://www.baidu.com/link?url=nkKdM1OHWcxRbADu_uIAykK3qNzEj3gQxhlikKjbSKAM_dv9IRfxAO6M86oXHOw0\n",
      "utf-8\n",
      "Deep Learning Course Forums\n",
      "http://www.baidu.com/link?url=16LtoqQ0BmQ_fbrYeF5lZf2qbohDa2NQ5keJn0YeV2O\n",
      "utf-8\n",
      "Richard Socher - Home Page\n",
      "http://www.baidu.com/link?url=Rh6GCSCxYMmLI7d6Tw37xO5tbrkHOp4kecKaj-0HMRS\n",
      "UTF-8\n",
      "Extreme Learning Machines: Random Neurons, Random Features, ...\n",
      "http://www.baidu.com/link?url=XcmoeaMCCzMBDY_GwtacHSflB1Q19Kt-qeGvyRGsDdhNT9O9AggfQ2XTrZtyNYE3\n",
      "ISO-8859-1\n",
      "http://www.baidu.com/s?wd=deep+learning&pn=50&rsv_srlang=en\n",
      "<class 'bs4.element.Tag'>\n",
      "ai-one | SDKs for building machine learning applications\n",
      "http://www.baidu.com/link?url=1ypIJ8pKMJEsM3F36yNIP4gY9mEmBSQT4ou07jGEuHi\n",
      "UTF-8\n",
      "Learning to Hash\n",
      "http://www.baidu.com/link?url=FBUseIzhHf9TNm9C_NFPLhjgMk20Qtjq9aBqEx8CpcAHw5-1-9xYBGD0MNEFPGBM\n",
      "UTF-8\n",
      "Deeplearning4j - Wikipedia\n",
      "http://www.baidu.com/link?url=Nh7678BfjsVwRoifdczlIUvQoHO2ABvmR1d0CtHBtRaa7m8B_aWwb6UTSMq4LW2lYKXtHnJEk7FCtl5N1zcqQ_\n",
      "UTF-8\n",
      "...Guide to Recurrent Networks and LSTMs - Deeplearning4j: ...\n",
      "http://www.baidu.com/link?url=n_NdDL9SB-gqPVz9izmSgukj2IB3eypFmlCuLQEn00Zjt2aFx4y44Fim6vq1AH5W\n",
      "utf-8\n",
      "[1511.05298] Structural-RNN: Deep Learning on Spatio-Temporal...\n",
      "http://www.baidu.com/link?url=6HY-RPvOUv3p2EeJSs_qcQ6RWHkJfRgT64rD-6Pf6od3xLuX4evcHs7IxOnMSVvw\n",
      "utf-8\n",
      "Home Page of Geoffrey Hinton\n",
      "http://www.baidu.com/link?url=ChLW_xlSfIVf1UiOG6tj76rVayLjjcCxlKaSqaEpoW6U4TcX3fyB-CQI0qaYwTMz\n"
     ]
    },
    {
     "name": "stdout",
     "output_type": "stream",
     "text": [
      "ISO-8859-1\n",
      "Deep Learning & Artificial Intelligence Solutions from NVIDIA\n",
      "http://www.baidu.com/link?url=Sl4wBpQTjHoWphopGT1BPxyZ1tsbDNO-N_TvJ8lqbJXfOwYgjVIHRl3egwee3QuMajH2XaR2Ya0lnr0CGyPpvq\n",
      "UTF-8\n",
      "Multimedia Laboratory\n",
      "http://www.baidu.com/link?url=27pUFIisShc07MES0gPkHgbr9qBfUaf_fq0vUtYEvPYI97VHb77XG7BwrXrhNiTq\n",
      "ISO-8859-1\n",
      "http://www.baidu.com/s?wd=deep+learning&pn=60&rsv_srlang=en\n",
      "<class 'bs4.element.Tag'>\n",
      "Artificial neural network - Wikipedia\n",
      "http://www.baidu.com/link?url=XEbZAuLNCBJ6uYb0OHipRHRFrZxTawDPqVGpvVhQuOJcwxLEmFSIddrL_WQYtXmeszoAxj1KTzxzetf0HTHQg27ALmv6DDB7jHkqXyTtMc7\n",
      "UTF-8\n",
      "Deeper learning - Wikipedia\n",
      "http://www.baidu.com/link?url=dZQI70t_U0f5YcfT0gYnzppuUGpsWWJ-4YNhvHNj-4GG4som-fUn3hAwjn81ahq7f2Fi3klt2hrhXk8sR8wWlK\n",
      "UTF-8\n",
      "digits deep learning training system\n",
      "http://www.baidu.com/link?url=ydtbwORip4q-KflqIX9fZovcY0dhTv2AZ_XVjZDurTgFYEjA6pNIV5s_tTaDBJwV\n"
     ]
    },
    {
     "ename": "SSLError",
     "evalue": "(\"bad handshake: SysCallError(104, 'ECONNRESET')\",)",
     "output_type": "error",
     "traceback": [
      "\u001b[0;31m---------------------------------------------------------------------------\u001b[0m",
      "\u001b[0;31mSSLError\u001b[0m                                  Traceback (most recent call last)",
      "\u001b[0;32m<ipython-input-159-6658fc1a9217>\u001b[0m in \u001b[0;36m<module>\u001b[0;34m()\u001b[0m\n\u001b[1;32m      2\u001b[0m \u001b[0mnum_page\u001b[0m \u001b[0;34m=\u001b[0m \u001b[0mint\u001b[0m\u001b[0;34m(\u001b[0m\u001b[0mraw_input\u001b[0m\u001b[0;34m(\u001b[0m\u001b[0;34m'input number of pages: '\u001b[0m\u001b[0;34m)\u001b[0m\u001b[0;34m)\u001b[0m\u001b[0;34m\u001b[0m\u001b[0m\n\u001b[1;32m      3\u001b[0m \u001b[0;32mfor\u001b[0m \u001b[0mi\u001b[0m \u001b[0;32min\u001b[0m \u001b[0mrange\u001b[0m\u001b[0;34m(\u001b[0m\u001b[0;36m1\u001b[0m\u001b[0;34m,\u001b[0m \u001b[0;36m1\u001b[0m \u001b[0;34m+\u001b[0m \u001b[0mnum_page\u001b[0m\u001b[0;34m)\u001b[0m\u001b[0;34m:\u001b[0m\u001b[0;34m\u001b[0m\u001b[0m\n\u001b[0;32m----> 4\u001b[0;31m     \u001b[0mget_baidu_result\u001b[0m\u001b[0;34m(\u001b[0m\u001b[0mkey\u001b[0m\u001b[0;34m,\u001b[0m \u001b[0;34m'./en_results/'\u001b[0m\u001b[0;34m,\u001b[0m \u001b[0mi\u001b[0m\u001b[0;34m)\u001b[0m\u001b[0;34m\u001b[0m\u001b[0m\n\u001b[0m",
      "\u001b[0;32m<ipython-input-155-8ee533f4871d>\u001b[0m in \u001b[0;36mget_baidu_result\u001b[0;34m(key, pathname, pagenum)\u001b[0m\n\u001b[1;32m     21\u001b[0m         \u001b[0;32mprint\u001b[0m \u001b[0ma\u001b[0m\u001b[0;34m.\u001b[0m\u001b[0mtext\u001b[0m\u001b[0;34m\u001b[0m\u001b[0m\n\u001b[1;32m     22\u001b[0m         \u001b[0;32mprint\u001b[0m \u001b[0ma\u001b[0m\u001b[0;34m[\u001b[0m\u001b[0;34m'href'\u001b[0m\u001b[0;34m]\u001b[0m\u001b[0;34m\u001b[0m\u001b[0m\n\u001b[0;32m---> 23\u001b[0;31m         \u001b[0mcrawl_main_content\u001b[0m\u001b[0;34m(\u001b[0m\u001b[0ma\u001b[0m\u001b[0;34m[\u001b[0m\u001b[0;34m'href'\u001b[0m\u001b[0;34m]\u001b[0m\u001b[0;34m,\u001b[0m \u001b[0mpathname\u001b[0m\u001b[0;34m,\u001b[0m \u001b[0ma\u001b[0m\u001b[0;34m.\u001b[0m\u001b[0mtext\u001b[0m\u001b[0;34m)\u001b[0m\u001b[0;34m\u001b[0m\u001b[0m\n\u001b[0m\u001b[1;32m     24\u001b[0m \u001b[0;31m#     for i in range(11,15):\u001b[0m\u001b[0;34m\u001b[0m\u001b[0;34m\u001b[0m\u001b[0m\n\u001b[1;32m     25\u001b[0m \u001b[0;31m#         a=div.find('div',id=str(i)).find('h3').find('a')\u001b[0m\u001b[0;34m\u001b[0m\u001b[0;34m\u001b[0m\u001b[0m\n",
      "\u001b[0;32m<ipython-input-157-d5eb03c4e2d5>\u001b[0m in \u001b[0;36mcrawl_main_content\u001b[0;34m(url, pathname, output_name, threshold)\u001b[0m\n\u001b[1;32m      2\u001b[0m \u001b[0;32mdef\u001b[0m \u001b[0mcrawl_main_content\u001b[0m\u001b[0;34m(\u001b[0m\u001b[0murl\u001b[0m\u001b[0;34m,\u001b[0m \u001b[0mpathname\u001b[0m\u001b[0;34m,\u001b[0m \u001b[0moutput_name\u001b[0m\u001b[0;34m,\u001b[0m \u001b[0mthreshold\u001b[0m\u001b[0;34m=\u001b[0m\u001b[0;36m186\u001b[0m\u001b[0;34m)\u001b[0m\u001b[0;34m:\u001b[0m\u001b[0;34m\u001b[0m\u001b[0m\n\u001b[1;32m      3\u001b[0m     \u001b[0mcx\u001b[0m \u001b[0;34m=\u001b[0m \u001b[0mCxExtractor\u001b[0m\u001b[0;34m(\u001b[0m\u001b[0mthreshold\u001b[0m\u001b[0;34m=\u001b[0m\u001b[0mthreshold\u001b[0m\u001b[0;34m)\u001b[0m\u001b[0;34m\u001b[0m\u001b[0m\n\u001b[0;32m----> 4\u001b[0;31m     \u001b[0mhtml\u001b[0m \u001b[0;34m=\u001b[0m \u001b[0mcx\u001b[0m\u001b[0;34m.\u001b[0m\u001b[0mgetHtml\u001b[0m\u001b[0;34m(\u001b[0m\u001b[0murl\u001b[0m\u001b[0;34m)\u001b[0m\u001b[0;34m\u001b[0m\u001b[0m\n\u001b[0m\u001b[1;32m      5\u001b[0m    \u001b[0;31m#print html\u001b[0m\u001b[0;34m\u001b[0m\u001b[0;34m\u001b[0m\u001b[0m\n\u001b[1;32m      6\u001b[0m     \u001b[0mcontent\u001b[0m \u001b[0;34m=\u001b[0m \u001b[0mcx\u001b[0m\u001b[0;34m.\u001b[0m\u001b[0mfilter_tags\u001b[0m\u001b[0;34m(\u001b[0m\u001b[0mhtml\u001b[0m\u001b[0;34m)\u001b[0m\u001b[0;34m\u001b[0m\u001b[0m\n",
      "\u001b[0;32m/home/ChenJW/ipy-nb/CxExtractor.py\u001b[0m in \u001b[0;36mgetHtml\u001b[0;34m(self, url)\u001b[0m\n\u001b[1;32m     79\u001b[0m \u001b[0;34m\u001b[0m\u001b[0m\n\u001b[1;32m     80\u001b[0m     \u001b[0;32mdef\u001b[0m \u001b[0mgetHtml\u001b[0m\u001b[0;34m(\u001b[0m\u001b[0mself\u001b[0m\u001b[0;34m,\u001b[0m \u001b[0murl\u001b[0m\u001b[0;34m)\u001b[0m\u001b[0;34m:\u001b[0m\u001b[0;34m\u001b[0m\u001b[0m\n\u001b[0;32m---> 81\u001b[0;31m         \u001b[0mresponse\u001b[0m \u001b[0;34m=\u001b[0m \u001b[0mrequests\u001b[0m\u001b[0;34m.\u001b[0m\u001b[0mget\u001b[0m\u001b[0;34m(\u001b[0m\u001b[0murl\u001b[0m\u001b[0;34m)\u001b[0m\u001b[0;34m\u001b[0m\u001b[0m\n\u001b[0m\u001b[1;32m     82\u001b[0m         \u001b[0mcoding\u001b[0m \u001b[0;34m=\u001b[0m \u001b[0mresponse\u001b[0m\u001b[0;34m.\u001b[0m\u001b[0mencoding\u001b[0m\u001b[0;34m\u001b[0m\u001b[0m\n\u001b[1;32m     83\u001b[0m         \u001b[0mpage\u001b[0m \u001b[0;34m=\u001b[0m \u001b[0mresponse\u001b[0m\u001b[0;34m.\u001b[0m\u001b[0mcontent\u001b[0m\u001b[0;34m\u001b[0m\u001b[0m\n",
      "\u001b[0;32m/home/ChenJW/anaconda2/lib/python2.7/site-packages/requests/api.pyc\u001b[0m in \u001b[0;36mget\u001b[0;34m(url, params, **kwargs)\u001b[0m\n\u001b[1;32m     70\u001b[0m \u001b[0;34m\u001b[0m\u001b[0m\n\u001b[1;32m     71\u001b[0m     \u001b[0mkwargs\u001b[0m\u001b[0;34m.\u001b[0m\u001b[0msetdefault\u001b[0m\u001b[0;34m(\u001b[0m\u001b[0;34m'allow_redirects'\u001b[0m\u001b[0;34m,\u001b[0m \u001b[0mTrue\u001b[0m\u001b[0;34m)\u001b[0m\u001b[0;34m\u001b[0m\u001b[0m\n\u001b[0;32m---> 72\u001b[0;31m     \u001b[0;32mreturn\u001b[0m \u001b[0mrequest\u001b[0m\u001b[0;34m(\u001b[0m\u001b[0;34m'get'\u001b[0m\u001b[0;34m,\u001b[0m \u001b[0murl\u001b[0m\u001b[0;34m,\u001b[0m \u001b[0mparams\u001b[0m\u001b[0;34m=\u001b[0m\u001b[0mparams\u001b[0m\u001b[0;34m,\u001b[0m \u001b[0;34m**\u001b[0m\u001b[0mkwargs\u001b[0m\u001b[0;34m)\u001b[0m\u001b[0;34m\u001b[0m\u001b[0m\n\u001b[0m\u001b[1;32m     73\u001b[0m \u001b[0;34m\u001b[0m\u001b[0m\n\u001b[1;32m     74\u001b[0m \u001b[0;34m\u001b[0m\u001b[0m\n",
      "\u001b[0;32m/home/ChenJW/anaconda2/lib/python2.7/site-packages/requests/api.pyc\u001b[0m in \u001b[0;36mrequest\u001b[0;34m(method, url, **kwargs)\u001b[0m\n\u001b[1;32m     56\u001b[0m     \u001b[0;31m# cases, and look like a memory leak in others.\u001b[0m\u001b[0;34m\u001b[0m\u001b[0;34m\u001b[0m\u001b[0m\n\u001b[1;32m     57\u001b[0m     \u001b[0;32mwith\u001b[0m \u001b[0msessions\u001b[0m\u001b[0;34m.\u001b[0m\u001b[0mSession\u001b[0m\u001b[0;34m(\u001b[0m\u001b[0;34m)\u001b[0m \u001b[0;32mas\u001b[0m \u001b[0msession\u001b[0m\u001b[0;34m:\u001b[0m\u001b[0;34m\u001b[0m\u001b[0m\n\u001b[0;32m---> 58\u001b[0;31m         \u001b[0;32mreturn\u001b[0m \u001b[0msession\u001b[0m\u001b[0;34m.\u001b[0m\u001b[0mrequest\u001b[0m\u001b[0;34m(\u001b[0m\u001b[0mmethod\u001b[0m\u001b[0;34m=\u001b[0m\u001b[0mmethod\u001b[0m\u001b[0;34m,\u001b[0m \u001b[0murl\u001b[0m\u001b[0;34m=\u001b[0m\u001b[0murl\u001b[0m\u001b[0;34m,\u001b[0m \u001b[0;34m**\u001b[0m\u001b[0mkwargs\u001b[0m\u001b[0;34m)\u001b[0m\u001b[0;34m\u001b[0m\u001b[0m\n\u001b[0m\u001b[1;32m     59\u001b[0m \u001b[0;34m\u001b[0m\u001b[0m\n\u001b[1;32m     60\u001b[0m \u001b[0;34m\u001b[0m\u001b[0m\n",
      "\u001b[0;32m/home/ChenJW/anaconda2/lib/python2.7/site-packages/requests/sessions.pyc\u001b[0m in \u001b[0;36mrequest\u001b[0;34m(self, method, url, params, data, headers, cookies, files, auth, timeout, allow_redirects, proxies, hooks, stream, verify, cert, json)\u001b[0m\n\u001b[1;32m    516\u001b[0m         }\n\u001b[1;32m    517\u001b[0m         \u001b[0msend_kwargs\u001b[0m\u001b[0;34m.\u001b[0m\u001b[0mupdate\u001b[0m\u001b[0;34m(\u001b[0m\u001b[0msettings\u001b[0m\u001b[0;34m)\u001b[0m\u001b[0;34m\u001b[0m\u001b[0m\n\u001b[0;32m--> 518\u001b[0;31m         \u001b[0mresp\u001b[0m \u001b[0;34m=\u001b[0m \u001b[0mself\u001b[0m\u001b[0;34m.\u001b[0m\u001b[0msend\u001b[0m\u001b[0;34m(\u001b[0m\u001b[0mprep\u001b[0m\u001b[0;34m,\u001b[0m \u001b[0;34m**\u001b[0m\u001b[0msend_kwargs\u001b[0m\u001b[0;34m)\u001b[0m\u001b[0;34m\u001b[0m\u001b[0m\n\u001b[0m\u001b[1;32m    519\u001b[0m \u001b[0;34m\u001b[0m\u001b[0m\n\u001b[1;32m    520\u001b[0m         \u001b[0;32mreturn\u001b[0m \u001b[0mresp\u001b[0m\u001b[0;34m\u001b[0m\u001b[0m\n",
      "\u001b[0;32m/home/ChenJW/anaconda2/lib/python2.7/site-packages/requests/sessions.pyc\u001b[0m in \u001b[0;36msend\u001b[0;34m(self, request, **kwargs)\u001b[0m\n\u001b[1;32m    659\u001b[0m \u001b[0;34m\u001b[0m\u001b[0m\n\u001b[1;32m    660\u001b[0m         \u001b[0;31m# Resolve redirects if allowed.\u001b[0m\u001b[0;34m\u001b[0m\u001b[0;34m\u001b[0m\u001b[0m\n\u001b[0;32m--> 661\u001b[0;31m         \u001b[0mhistory\u001b[0m \u001b[0;34m=\u001b[0m \u001b[0;34m[\u001b[0m\u001b[0mresp\u001b[0m \u001b[0;32mfor\u001b[0m \u001b[0mresp\u001b[0m \u001b[0;32min\u001b[0m \u001b[0mgen\u001b[0m\u001b[0;34m]\u001b[0m \u001b[0;32mif\u001b[0m \u001b[0mallow_redirects\u001b[0m \u001b[0;32melse\u001b[0m \u001b[0;34m[\u001b[0m\u001b[0;34m]\u001b[0m\u001b[0;34m\u001b[0m\u001b[0m\n\u001b[0m\u001b[1;32m    662\u001b[0m \u001b[0;34m\u001b[0m\u001b[0m\n\u001b[1;32m    663\u001b[0m         \u001b[0;31m# Shuffle things around if there's history.\u001b[0m\u001b[0;34m\u001b[0m\u001b[0;34m\u001b[0m\u001b[0m\n",
      "\u001b[0;32m/home/ChenJW/anaconda2/lib/python2.7/site-packages/requests/sessions.pyc\u001b[0m in \u001b[0;36mresolve_redirects\u001b[0;34m(self, resp, req, stream, timeout, verify, cert, proxies, **adapter_kwargs)\u001b[0m\n\u001b[1;32m    212\u001b[0m                 \u001b[0mproxies\u001b[0m\u001b[0;34m=\u001b[0m\u001b[0mproxies\u001b[0m\u001b[0;34m,\u001b[0m\u001b[0;34m\u001b[0m\u001b[0m\n\u001b[1;32m    213\u001b[0m                 \u001b[0mallow_redirects\u001b[0m\u001b[0;34m=\u001b[0m\u001b[0mFalse\u001b[0m\u001b[0;34m,\u001b[0m\u001b[0;34m\u001b[0m\u001b[0m\n\u001b[0;32m--> 214\u001b[0;31m                 \u001b[0;34m**\u001b[0m\u001b[0madapter_kwargs\u001b[0m\u001b[0;34m\u001b[0m\u001b[0m\n\u001b[0m\u001b[1;32m    215\u001b[0m             )\n\u001b[1;32m    216\u001b[0m \u001b[0;34m\u001b[0m\u001b[0m\n",
      "\u001b[0;32m/home/ChenJW/anaconda2/lib/python2.7/site-packages/requests/sessions.pyc\u001b[0m in \u001b[0;36msend\u001b[0;34m(self, request, **kwargs)\u001b[0m\n\u001b[1;32m    637\u001b[0m \u001b[0;34m\u001b[0m\u001b[0m\n\u001b[1;32m    638\u001b[0m         \u001b[0;31m# Send the request\u001b[0m\u001b[0;34m\u001b[0m\u001b[0;34m\u001b[0m\u001b[0m\n\u001b[0;32m--> 639\u001b[0;31m         \u001b[0mr\u001b[0m \u001b[0;34m=\u001b[0m \u001b[0madapter\u001b[0m\u001b[0;34m.\u001b[0m\u001b[0msend\u001b[0m\u001b[0;34m(\u001b[0m\u001b[0mrequest\u001b[0m\u001b[0;34m,\u001b[0m \u001b[0;34m**\u001b[0m\u001b[0mkwargs\u001b[0m\u001b[0;34m)\u001b[0m\u001b[0;34m\u001b[0m\u001b[0m\n\u001b[0m\u001b[1;32m    640\u001b[0m \u001b[0;34m\u001b[0m\u001b[0m\n\u001b[1;32m    641\u001b[0m         \u001b[0;31m# Total elapsed time of the request (approximately)\u001b[0m\u001b[0;34m\u001b[0m\u001b[0;34m\u001b[0m\u001b[0m\n",
      "\u001b[0;32m/home/ChenJW/anaconda2/lib/python2.7/site-packages/requests/adapters.pyc\u001b[0m in \u001b[0;36msend\u001b[0;34m(self, request, stream, timeout, verify, cert, proxies)\u001b[0m\n\u001b[1;32m    510\u001b[0m         \u001b[0;32mexcept\u001b[0m \u001b[0;34m(\u001b[0m\u001b[0m_SSLError\u001b[0m\u001b[0;34m,\u001b[0m \u001b[0m_HTTPError\u001b[0m\u001b[0;34m)\u001b[0m \u001b[0;32mas\u001b[0m \u001b[0me\u001b[0m\u001b[0;34m:\u001b[0m\u001b[0;34m\u001b[0m\u001b[0m\n\u001b[1;32m    511\u001b[0m             \u001b[0;32mif\u001b[0m \u001b[0misinstance\u001b[0m\u001b[0;34m(\u001b[0m\u001b[0me\u001b[0m\u001b[0;34m,\u001b[0m \u001b[0m_SSLError\u001b[0m\u001b[0;34m)\u001b[0m\u001b[0;34m:\u001b[0m\u001b[0;34m\u001b[0m\u001b[0m\n\u001b[0;32m--> 512\u001b[0;31m                 \u001b[0;32mraise\u001b[0m \u001b[0mSSLError\u001b[0m\u001b[0;34m(\u001b[0m\u001b[0me\u001b[0m\u001b[0;34m,\u001b[0m \u001b[0mrequest\u001b[0m\u001b[0;34m=\u001b[0m\u001b[0mrequest\u001b[0m\u001b[0;34m)\u001b[0m\u001b[0;34m\u001b[0m\u001b[0m\n\u001b[0m\u001b[1;32m    513\u001b[0m             \u001b[0;32melif\u001b[0m \u001b[0misinstance\u001b[0m\u001b[0;34m(\u001b[0m\u001b[0me\u001b[0m\u001b[0;34m,\u001b[0m \u001b[0mReadTimeoutError\u001b[0m\u001b[0;34m)\u001b[0m\u001b[0;34m:\u001b[0m\u001b[0;34m\u001b[0m\u001b[0m\n\u001b[1;32m    514\u001b[0m                 \u001b[0;32mraise\u001b[0m \u001b[0mReadTimeout\u001b[0m\u001b[0;34m(\u001b[0m\u001b[0me\u001b[0m\u001b[0;34m,\u001b[0m \u001b[0mrequest\u001b[0m\u001b[0;34m=\u001b[0m\u001b[0mrequest\u001b[0m\u001b[0;34m)\u001b[0m\u001b[0;34m\u001b[0m\u001b[0m\n",
      "\u001b[0;31mSSLError\u001b[0m: (\"bad handshake: SysCallError(104, 'ECONNRESET')\",)"
     ]
    }
   ],
   "source": [
    "key = raw_input('input key word: ')\n",
    "num_page = int(raw_input('input number of pages: '))\n",
    "for i in range(1, 1 + num_page):\n",
    "    get_baidu_result(key, './en_results/', i)"
   ]
  },
  {
   "cell_type": "code",
   "execution_count": 3,
   "metadata": {
    "scrolled": false
   },
   "outputs": [
    {
     "name": "stdout",
     "output_type": "stream",
     "text": [
      "ISO-8859-1\n",
      "Succeed to get the url\n",
      "num_a: 167\n",
      "language: False  enratio: 0.792292870906\n",
      "32\n"
     ]
    }
   ],
   "source": [
    "crawl_main_content('https://baike.baidu.com/item/%E8%85%BE%E8%AE%AF%E5%85%AC%E7%9B%8A%E6%85%88%E5%96%84%E5%9F%BA%E9%87%91%E4%BC%9A', '', 'test')"
   ]
  },
  {
   "cell_type": "code",
   "execution_count": 103,
   "metadata": {},
   "outputs": [
    {
     "name": "stdout",
     "output_type": "stream",
     "text": [
      "http://www.baidu.com/s?wd=wind%26five&pn=10\n"
     ]
    }
   ],
   "source": [
    "r = requests.get('http://www.baidu.com/s?', params={'wd': 'wind&five', 'pn': '10'})\n",
    "print r.url"
   ]
  },
  {
   "cell_type": "code",
   "execution_count": 153,
   "metadata": {
    "collapsed": true
   },
   "outputs": [],
   "source": [
    "with open('./en_results/d.txt', 'w') as f:\n",
    "    f.write('lalala')"
   ]
  },
  {
   "cell_type": "code",
   "execution_count": 13,
   "metadata": {
    "collapsed": true
   },
   "outputs": [],
   "source": [
    "url = 'https://baike.baidu.com/item/%E8%85%BE%E8%AE%AF%E5%85%AC%E7%9B%8A%E6%85%88%E5%96%84%E5%9F%BA%E9%87%91%E4%BC%9A'\n",
    "soup = BeautifulSoup(requests.get(url).content, 'html.parser')\n",
    "div = soup.find_all('div', class_=re.compile('content'), recursive=False)"
   ]
  },
  {
   "cell_type": "code",
   "execution_count": 17,
   "metadata": {
    "scrolled": false
   },
   "outputs": [
    {
     "data": {
      "text/plain": [
       "<listiterator at 0x7fdb74e87cd0>"
      ]
     },
     "execution_count": 17,
     "metadata": {},
     "output_type": "execute_result"
    }
   ],
   "source": [
    "soup.children"
   ]
  },
  {
   "cell_type": "code",
   "execution_count": 1,
   "metadata": {
    "scrolled": true
   },
   "outputs": [
    {
     "name": "stdout",
     "output_type": "stream",
     "text": [
      "ISO-8859-1\n",
      "Succeed to get the url\n",
      "num_a: 29\n",
      "http://www.baidu.com/\n",
      "https://www.baidu.com/\n",
      "http://news.baidu.com/\n",
      "https://tieba.baidu.com/\n",
      "https://zhidao.baidu.com/\n",
      "http://music.baidu.com/\n",
      "http://image.baidu.com/\n",
      "http://v.baidu.com/\n",
      "http://map.baidu.com/\n",
      "https://wenku.baidu.com/\n",
      "https://baike.baidu.com/tashuo/browse/content?id=2e7f4fcdd0bc69101416efec&fr=qingtian&lemmaId=22100792\n",
      "https://baike.baidu.com/tashuo/browse/content?id=2e7f4fcdd0bc69101416efec&fr=qingtian&lemmaId=22100792\n",
      "https://baike.baidu.com/tashuo/browse/content?id=2e7f4fcdd0bc69101416efec&fr=qingtian&lemmaId=22100792\n",
      "http://news.xinhuanet.com/fortune/2017-08/30/c_1121566323.htm\n",
      "http://news.xinhuanet.com/fortune/2017-08/30/c_1121566323.htm\n",
      "http://news.xinhuanet.com/fortune/2017-08/30/c_1121566323.htm\n",
      "http://www.foundationcenter.org.cn/\n",
      "http://www.foundationcenter.org.cn/\n",
      " http://baike.bdimg.com/cms/static/cooperation/content.pdf\n",
      "http://www.baidu.com/p/yanggang_\n",
      "https://aikefu.baidu.com/?product=bk001\n",
      "http://tieba.baidu.com/f?ie=utf-8&fr=bks0000&kw=%E7%99%BE%E5%BA%A6%E7%99%BE%E7%A7%91\n",
      "http://tousu.baidu.com/baike#1\n",
      "http://tousu.baidu.com/baike#2\n",
      "http://tousu.baidu.com/baike#4\n",
      "http://tousu.baidu.com/baike#3\n",
      "http://www.baidu.com/duty/\n",
      "http://help.baidu.com/question?prod_en=baike&class=159&id=1047\n",
      "http://www.beian.gov.cn/portal/registerSystemInfo?recordcode=11000002000001\n",
      "language: False  enratio: 0.792292870906\n",
      "32\n",
      "腾讯公益慈善基金会（简称腾讯基金会）是2007年6月26日经中华人民共和国国务院与民政部批准成立，在民政部登记注册、由民政部主管的全国性非公募基金会。[1] \n",
      "2007年6月，腾讯公司倡导并发起了中国互联网第一家在民政部注册的全国性非公募基金会——腾讯基金会。作为首家由互联网企业发起成立的公益基金会，腾讯基金会致力于推动互联网与公益慈善事业的深度融合与发展，通过互联网尤其是移动互联网的技术和服务推动公益行业的发展。[2] \n",
      "腾讯公益慈善基金会的原始基金为2000万元，由腾讯公司捐赠。[3] \n",
      "腾讯承诺每年都会将利润的一定比例捐赠给基金会。 [4] \n",
      "8月29日早上，朋友圈被腾讯公益的一个“小朋友画廊”一元购画的活动刷屏了，朋友圈中无插队的接力下，超过1500万捐款，超过581万人次参与，这种“社交+公益”的力量，厉害了！...详情\n",
      "8月29日，微信朋友圈被一幅幅“小朋友”画作刷屏。新京报记者了解到，此次“一元购画”募捐活动是腾讯公益平台发起的，画作是由WABC无障碍艺途公益机构患有自闭症、智力障碍、脑瘫等病症的特殊人群创作，微信用户可以以一元钱的价格购买画作，保存成壁纸使用。据记者统计，此次捐款完成目标为1500万元，已于昨日下午完成。活动参与人数超过580万人。...详情\n",
      "腾讯公益致力于成为“人人可公益”的创联者，成为公益组织和广大爱心网友，企业之间的“连接器”，用互联网核心能力推动公益行业的长远发展。[8] \n",
      "A 人人公益——网络捐款平台\n",
      "作为腾讯基金会的重要产品，“网络捐款平台”融入互联网的智慧和精神，将公益成功转变为一种新的社交方式。通过“乐捐”“一起捐”等方式，数量庞大却零散分布的爱心个人，用最简便的方式参与公益，并迅速汇聚形成了一个网络可见的正能量群体。[9] \n",
      "一起捐——是腾讯公益推出的“一起捐”就是这样一种基于移动平台特性和社交关系链的全新募款模式，“一起捐”带来的不只是捐款，更是将朋友和互动引入公益。让爱心在朋友和一个个圈子里流通，使得公益更加真实、友好和快乐。[10] \n",
      "截至2015年12月，有超过4825万人次的爱心用户，通过腾讯公益捐赠善款超过7.6亿元，共资助了2562家公益组织的8235个公益项目。[11] \n",
      "B 行为公益——益行家\n",
      "腾讯“益行家”是由腾讯公益慈善基金会发起并主办，号召公众通过线上公益捐赠，参与线下徒步行走的大型年度品牌公益项目。[12-13] \n",
      "“益行家”是一款将用户的运动数据转化为公益步数，兑换为资助企业的公益基金捐助公益项目的产品。以“人人是公益行动家”为使命，通过移动互联网社交，撬动企业及公众共同参与全民健康公益的盛宴。\n",
      "A 全民公益——99公益日\n",
      "“99公益日”是由腾讯公益联合数百家公益组织、知名企业、明星名人、顶级创意传播机构共同发起的一年一度全民公益活动。[14] \n",
      "2015年9月9日是中国首个互联网公益日，2015年公益日主题为“一起爱”。[15] \n",
      "通过腾讯公益平台，共有205万人次参与捐款1.279亿元，发起一起捐的人次高达861671人，见证了移动互联+公益形成的“指尖上的公益”所迸发出来的强大力量。\n",
      "B 机构赋能——微爱计划\n",
      "腾讯微爱是腾讯公益慈善基金会面向公益组织发展的立体成长体系。其核心机制是：腾讯基金会通过微爱开放平台，整体提供资金、资源、资讯的全方位支持，促进民间公益组织、优秀企业、公益领袖、爱心网友、社会志愿者的正向互动，共同致力于推动中国公益事业的良性发展。[16] \n",
      "C 创新公益——1001创想行动\n",
      "1001创想行动是腾讯公益发起的，通过创新的筹人配捐方式，支持有想法、接地气和靠谱的公益创新型项目在乐捐平台上进行众筹，激励更多的青年人用自己的创意去解决社会问题，让公益更加有爱有趣有想象力。[17] \n",
      "在企业内部，腾讯基金会积极探索联动产品做公益的可能性。利用腾讯产品的技术与特性，连接腾讯的用户，让公益参与更高效、影响更广泛。\n",
      "合作案例：微信的“为盲胞读书”、QQ邮箱的“暖灯行动”、手机QQ的“全城助力”、“QQ红围巾”、电脑管家及手机管家的“清理+”、天天酷跑及微信运动的“酷跑+”等。\n",
      "作为由中国最大互联网企业发起的基金会，腾讯基金会积极探索结合企业的核心优势建设公益事业，回馈社会。\n",
      "为村是一个用个移动互联网发现乡村价值的开放平台，它以“互联网+乡村”的模式，利用移动网络力量，为乡村连接情感、连接信息、连接财富。\n",
      "从2008年南方雪灾开始，腾讯基金会逐步建立了一套整合腾讯全平台资源的立体救灾机制，从灾情评估、灾难一线救援、救灾团队后勤保障三方面展开行动。\n",
      "每逢国内外发生重大灾难，腾讯基金会第一时间启动立体救灾应急模式，借助腾讯媒体影响力和号召力，用产品、技术等一切核心能力，通过社交网络、网络捐款平台、门户网站、搜索等产品，全平台全方位展开关注灾情、网络搜救、网络倡议、在线捐助等系列救灾行动，率先开创了线下线上结合的“立体救灾模式”。\n",
      "2014年-2015年，先后展开了四川芦山灾后重建、云南鲁甸地震紧急救灾、海南威马逊风灾灾后重建、尼泊尔地震紧急救灾等灾难救助项目。\n",
      "99公益日再度启动 腾讯安全“清理+” 践行社会责任[18-19] \n",
      "在去年创下国内互联网1.279亿元的最高募捐纪录之后，99公益日这个旨在打造“人人可公益”的新兴慈善平台于近日再度启动。其中作为发起者的腾讯公益宣布在去年的配捐金额基础上追加1亿，总额达到1亿9999万,成为此次99公益日到来之前的一大焦点。捐额的全面“加码”，不仅意味着正在撬动更多力量的进入，也让大众的目光聚焦在了腾讯公益天文数字般捐额背后的行动。[18-19] \n",
      "事实上，腾讯公益除了豪掷千金之外，基于腾讯内部的平台优势已经实施了一系列全面且高效的生态公益创新举措。其中，去年刚刚上线的腾讯安全“清理”功能成绩喜人。用户通过使用腾讯电脑管家、腾讯手机管家的垃圾清理功能，实现爱心扫帚捐赠，最终用于相应的慈善活动。截止到2016年7月，三期“清理+”行动已开展清理三江源、防治阿拉善地区荒漠化以及关爱病患孤儿的主题活动，共获得4000万人次捐赠爱心扫帚。[18-19] \n",
      "\n"
     ]
    }
   ],
   "source": [
    "from CxExtractor import CxExtractor\n",
    "cx = CxExtractor(threshold=186)\n",
    "print cx.crawl('https://baike.baidu.com/item/%E8%85%BE%E8%AE%AF%E5%85%AC%E7%9B%8A%E6%85%88%E5%96%84%E5%9F%BA%E9%87%91%E4%BC%9A')"
   ]
  },
  {
   "cell_type": "code",
   "execution_count": 12,
   "metadata": {},
   "outputs": [
    {
     "data": {
      "text/plain": [
       "<generator object gen at 0x7fe229b559b0>"
      ]
     },
     "execution_count": 12,
     "metadata": {},
     "output_type": "execute_result"
    }
   ],
   "source": [
    "def gen():\n",
    "    yield 3\n",
    "    yield 5\n",
    "s = gen()\n",
    "s"
   ]
  },
  {
   "cell_type": "code",
   "execution_count": 21,
   "metadata": {},
   "outputs": [
    {
     "ename": "IndexError",
     "evalue": "pop from empty list",
     "output_type": "error",
     "traceback": [
      "\u001b[0;31m---------------------------------------------------------------------------\u001b[0m",
      "\u001b[0;31mIndexError\u001b[0m                                Traceback (most recent call last)",
      "\u001b[0;32m<ipython-input-21-353a8f813834>\u001b[0m in \u001b[0;36m<module>\u001b[0;34m()\u001b[0m\n\u001b[0;32m----> 1\u001b[0;31m \u001b[0ma\u001b[0m\u001b[0;34m.\u001b[0m\u001b[0mpop\u001b[0m\u001b[0;34m(\u001b[0m\u001b[0;34m)\u001b[0m\u001b[0;34m\u001b[0m\u001b[0m\n\u001b[0m",
      "\u001b[0;31mIndexError\u001b[0m: pop from empty list"
     ]
    }
   ],
   "source": []
  }
 ],
 "metadata": {
  "kernelspec": {
   "display_name": "Python 2",
   "language": "python",
   "name": "python2"
  },
  "language_info": {
   "codemirror_mode": {
    "name": "ipython",
    "version": 2
   },
   "file_extension": ".py",
   "mimetype": "text/x-python",
   "name": "python",
   "nbconvert_exporter": "python",
   "pygments_lexer": "ipython2",
   "version": "2.7.13"
  }
 },
 "nbformat": 4,
 "nbformat_minor": 2
}
